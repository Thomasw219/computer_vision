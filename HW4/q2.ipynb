{
 "cells": [
  {
   "cell_type": "code",
   "execution_count": 1,
   "id": "piano-tenant",
   "metadata": {
    "deletable": false,
    "editable": false,
    "nbgrader": {
     "cell_type": "code",
     "checksum": "8e058e539b0238fec3688fe5c754729f",
     "grade": false,
     "grade_id": "q2-code0",
     "locked": true,
     "schema_version": 3,
     "solution": false,
     "task": false
    }
   },
   "outputs": [],
   "source": [
    "import IPython\n",
    "assert IPython.version_info[0] >= 3, \"Your version of IPython is too old, please update it.\""
   ]
  },
  {
   "cell_type": "code",
   "execution_count": 88,
   "id": "6a6cbae1-7474-45fa-a9f5-94d0a7497074",
   "metadata": {
    "deletable": false,
    "editable": false,
    "nbgrader": {
     "cell_type": "code",
     "checksum": "05176a5b4d550bb6b67f9024f9971f94",
     "grade": false,
     "grade_id": "q2-code1",
     "locked": true,
     "schema_version": 3,
     "solution": false,
     "task": false
    }
   },
   "outputs": [],
   "source": [
    "import numpy as np\n",
    "import cv2\n",
    "import os\n",
    "from scipy.spatial.distance import cdist\n",
    "from keypointDetect import DoGdetector\n",
    "\n",
    "import matplotlib.pyplot as plt"
   ]
  },
  {
   "cell_type": "markdown",
   "id": "41887f43-518c-4bf0-8a3b-e212067744f8",
   "metadata": {
    "deletable": false,
    "editable": false,
    "nbgrader": {
     "cell_type": "markdown",
     "checksum": "66dca41fb3fef9711938dff56c1c1023",
     "grade": false,
     "grade_id": "q2-note1",
     "locked": true,
     "schema_version": 3,
     "solution": false,
     "task": false
    }
   },
   "source": [
    "# Interest Points\n",
    "\n",
    "Before finding the homography between an image pair, we need to find corresponding point pairs between two images. But how do we get these points? One way is to select them manually (using `cpselect`), which is tedious and inefficient. The CV way is to find interest points in the image pair and automatically match them. In the interest of being able to do cool stuff, we will not re-implement a feature detector here, but use built-in methods. The purpose of an interest point detector (e.g. Harris, FAST, SIFT, SURF, etc.) is to find particular salient points in the images around which we extract feature descriptors (e.g. BRIEF, ORB, etc.). These descriptors try to summarize the content of the image around the feature points in as succinct yet descriptive manner possible (there is often a trade-off between representational and computational complexity for many computer vision tasks; you can have a very high dimensional feature descriptor that would ensure that you get good matches, but computing it could be prohibitively expensive). Matching, then, is a task of trying to find a descriptor in the list of descriptors obtained after computing them on a new image that best matches the current descriptor. This could be something as simple as the Euclidean distance between the two descriptors, or something more complicated, depending on how the descriptor is composed. \n",
    "\n",
    "For the purpose of this exercise, you can use FAST or Harris detector in concert with the BRIEF descriptor. You can use Python functions [skimage.feature](http://scikit-image.org/docs/0.13.x/api/skimage.feature.html) such as [skimage.feature.corner_harris](http://scikit-image.org/docs/0.13.x/api/skimage.feature.htm#skimage.feature.corner_harris) or [skimage.feature.corner_fast](http://scikit-image.org/docs/0.13.x/api/skimage.feature.html#skimage.feature.corner_fast).\n"
   ]
  },
  {
   "cell_type": "markdown",
   "id": "30050095-971d-4d73-aaef-f8d479c87402",
   "metadata": {
    "deletable": false,
    "editable": false,
    "nbgrader": {
     "cell_type": "markdown",
     "checksum": "b82ff9bc5f5325dca646ba9777f56817",
     "grade": false,
     "grade_id": "q2-note2",
     "locked": true,
     "schema_version": 3,
     "solution": false,
     "task": false
    }
   },
   "source": [
    "## Question 2: BRIEF Descriptor (25 points)\n",
    "\n",
    "Now that we have interest points that tell us where to find the most informative\n",
    "points in the image, we can compute descriptors that can be used to match to\n",
    "other views of the same point in different images. The BRIEF descriptor encodes\n",
    "information from a $9\\times9$ patch $p$ centered around the interest point at\n",
    "the _characteristic scale_ of the interest point. See the lecture notes for\n",
    "Point Feature Detectors if you need to refresh your memory."
   ]
  },
  {
   "cell_type": "markdown",
   "id": "645781c3-2432-4b15-8b3c-9496a01eaf8c",
   "metadata": {
    "deletable": false,
    "editable": false,
    "nbgrader": {
     "cell_type": "markdown",
     "checksum": "787b6a75d123f0fa2c2c7ea701278573",
     "grade": false,
     "grade_id": "q2-note3",
     "locked": true,
     "schema_version": 3,
     "solution": false,
     "task": false
    }
   },
   "source": [
    "### 2.1 Creating a Set of BRIEF Tests (5 pts)\n",
    "\n",
    "The descriptor itself is a vector that is $n$-bits long, where each bit is the\n",
    "result of the following simple test:\n",
    "\n",
    "\\begin{equation}\n",
    "  \\tau(p;x,y):=\\begin{cases}\n",
    "    1, & \\text{if $p(x)<p(y)$}.\\\\\n",
    "    0, & \\text{otherwise}.\n",
    "  \\end{cases}\n",
    "\\end{equation}\n",
    "Set $n$ to 256 bits. There is no need to encode the test results as actual bits. It is fine to encode them as a 256 element vector.\n",
    "\n",
    "There are many choices for the 256 test pairs $(x,y)$ used to compute\n",
    "$\\tau(p;x,y)$ (each of the $n$ bits). The authors describe and test\n",
    "some of them in [the BRIEF paper](https://link.springer.com/content/pdf/10.1007/978-3-642-15561-1_56.pdf). Read section 3.2 of that paper and implement\n",
    "one of these solutions. You should generate a static set of test pairs and save\n",
    "that data to a file. You will use these pairs for all subsequent computations of\n",
    "the BRIEF descriptor. \n",
    "&nbsp;\n"
   ]
  },
  {
   "cell_type": "markdown",
   "id": "93d36dcc-d980-4ed1-a2bf-4292b154d3fb",
   "metadata": {
    "deletable": false,
    "editable": false,
    "nbgrader": {
     "cell_type": "markdown",
     "checksum": "dcdb44df43fc09e306ea295a1feb05b9",
     "grade": false,
     "grade_id": "q2-note4",
     "locked": true,
     "schema_version": 3,
     "solution": false,
     "task": false
    }
   },
   "source": [
    "#### Q 2.1\n",
    "\n",
    "Write the function to create the $x$ and $y$\n",
    "pairs that we will use for comparison to compute $\\tau$:\n",
    "\n",
    "\\begin{equation}\n",
    "    {\\tt [compareX, compareY] = makeTestPattern(patchWidth, nbits) }\n",
    "\\end{equation}\n",
    "\n",
    "${\\tt patchWidth }$ is the width of the image patch (usually $9$) and ${\\tt nbits }$\n",
    "is the number of tests $n$ in the BRIEF descriptor. ${\\tt compareX }$ and\n",
    "${\\tt compareY }$ are are each $nbits\\times 1$ vectors linear indices, and the indice values are in $[0, {\\texttt{patchWidth} \\times \\texttt{patchWidth}})$. Run this\n",
    "routine for the given parameters $\\texttt{patchWidth}=9$ and $n=256$ and save\n",
    "the results in ${\\tt testPattern.npy }$. **Include this file** in your submission.\n"
   ]
  },
  {
   "cell_type": "code",
   "execution_count": 94,
   "id": "convertible-confirmation",
   "metadata": {
    "deletable": false,
    "nbgrader": {
     "cell_type": "code",
     "checksum": "a6f71dc7f41faefc19373461ac1b46d0",
     "grade": false,
     "grade_id": "q2_1_answer",
     "locked": false,
     "schema_version": 3,
     "solution": true,
     "task": false
    }
   },
   "outputs": [],
   "source": [
    "def makeTestPattern(patch_width=9, nbits=256):\n",
    "    '''\n",
    "    Creates Test Pattern for BRIEF.\n",
    "    Run this routine for the given parameters patch_width = 9 and n = 256.\n",
    "\n",
    "    INPUTS\n",
    "    patch_width - the width of the image patch (usually 9)\n",
    "    nbits      - the number of tests n in the BRIEF descriptor\n",
    "\n",
    "    OUTPUTS\n",
    "    compareX and compareY - LINEAR indices into the patch_width x patch_width image \n",
    "                            patch and are each (nbits,) vectors. \n",
    "    '''\n",
    "    # Hint: Technically, you can use any patterns you want, as long as all the images\n",
    "    # use the same pattern.  Random indices could be a solution.\n",
    "    # YOUR CODE HERE\n",
    "    S = patch_width\n",
    "    compareX = np.random.normal(loc=S//2, scale=S/5, size=(2, nbits))\n",
    "    compareY = np.random.normal(loc=S//2, scale=S/5, size=(2, nbits))\n",
    "    \n",
    "    compareX = np.clip(compareX, 0, S - 1).astype(int)\n",
    "    compareY = np.clip(compareY, 0, S - 1).astype(int)\n",
    "    \n",
    "    compareX = compareX[0] + compareX[1] * patch_width\n",
    "    compareY = compareY[0] + compareY[1] * patch_width\n",
    "    \n",
    "    compareX = compareX.reshape((-1, 1))\n",
    "    compareY = compareY.reshape((-1, 1))\n",
    "        \n",
    "    np.save('data/testPattern.npy', [compareX, compareY])\n",
    "    return  compareX, compareY"
   ]
  },
  {
   "cell_type": "code",
   "execution_count": 40,
   "id": "heated-works",
   "metadata": {
    "deletable": false,
    "editable": false,
    "nbgrader": {
     "cell_type": "code",
     "checksum": "7c10ba803206ae27f126d044927c8e64",
     "grade": true,
     "grade_id": "q2_1",
     "locked": true,
     "points": 5,
     "schema_version": 3,
     "solution": false,
     "task": false
    }
   },
   "outputs": [],
   "source": [
    "### HIDDEN TEST CELL\n",
    "# Hint: We will check the existance of the file and the shape of the\n",
    "# indice vectors. Do not modify the following parameters\n",
    "compareX, compareY = makeTestPattern(patch_width=9, nbits=256)\n",
    "# change the following path to where you save the file\n",
    "test_pattern_file = 'data/testPattern.npy'"
   ]
  },
  {
   "cell_type": "code",
   "execution_count": 43,
   "id": "ca4bf914",
   "metadata": {},
   "outputs": [
    {
     "name": "stdout",
     "output_type": "stream",
     "text": [
      "[31 31 60 32 29 34 67 41 39 31  2 31 55 29 40 30 38 30 40 30 32 21 57 48\n",
      " 23 30 45  5 50  1 66 32 42 42 40 54 45 41 46 57 41 39 31 38 47 27 48 41\n",
      " 57  4 40 19 47 11 21 34  3 23 28 59 47 56 36 31 38  4 56 19 22 32 51  1\n",
      " 33 41 30 33 37 29 31 57 21 40 78 30 31 56 30 60 13 14 27 35 12 59 42 13\n",
      "  4 41 49 32 48  2 22 57 40 48 40 19 15 37  3 22 24 24 31  4 38 40 57 43\n",
      " 50 41 33 60 50 21  1 28 23 39 58 67 52 38  6 33 12 57 31 30 40 39 39 50\n",
      " 40 39 55 47 36 11 30  8 29 18 57 24 22 47  4  5 42 30 37 57 19 48 49 31\n",
      " 30 20 40 12 41 30 20 32 33 58 38 31 38 40  4 21 33 32 56 40 24 56 46 58\n",
      " 31 16 66 34 49 74 58 68 49 50 24 31 22 20 37 30 49  0 30 48 24 28 30 48\n",
      " 28  3 32 20 59 22 13 33 47 42 38 23 50 59 41 30 42 38 22 31 13 43 54 38\n",
      " 46 20 21 22 31 32 39 21 54  9  0 49 21 40 21 40]\n",
      "[ 4 23 20  2 33 54 12 28 12 23 22 47 29 49  4 50 22 47 58 30 46 33 20 20\n",
      " 41 28 41  1 28 22 32 24 19 58 51 60 38 76 48 10 15 33 25  6 57 32 31 48\n",
      " 22 21 31 55 38 39  1 40 40 49 29 20 21 42 40 59 30 38 59 24 32 23 50 38\n",
      " 39 47 39 22 27 40 37 31 12 22 63 37 32 14 40 38 45 68 22 28 12 39 49 21\n",
      " 31 50 39 31 39 32 46 18  1 32 32 30  2 22 39 23 23 39 12 41  2 49 30 21\n",
      " 21 12 41 39 12 21 56 41 30 62 49 12 70 45 58 40 30 47 41 58 28 40 40 29\n",
      " 31 39 14 50 21 30 29 28 32 66 15 40 37 14  1 20 41 46 39 32 23 50 13 31\n",
      " 19 41 19 51 29 23 39 42 12 30 21 50 21 41 41 30 48 31 67 60 50 22 21 41\n",
      " 39 22 56 37 15 49 39 57 28 32 30 11 33 68 38  1 33 46 21 40 39 21 48 13\n",
      " 23 67 28 35  2 58 47 22 34 29 42 32 29 68 17 27 76 30 42 25 38 31 21 22\n",
      " 40 49 12  6 11  1 10  9 32 60 49 56 31 41 20 21]\n"
     ]
    }
   ],
   "source": [
    "print(compareX)\n",
    "print(compareY)"
   ]
  },
  {
   "cell_type": "markdown",
   "id": "pacific-swedish",
   "metadata": {
    "deletable": false,
    "editable": false,
    "nbgrader": {
     "cell_type": "markdown",
     "checksum": "e0efb1b69fac746cb3e904deb92ec6d2",
     "grade": false,
     "grade_id": "q2-note5",
     "locked": true,
     "schema_version": 3,
     "solution": false,
     "task": false
    }
   },
   "source": [
    "### 2.2 Compute the BRIEF Descriptor (5 pts) \n",
    "\n",
    "#### Q 2.2 \n",
    "\n",
    "It is now time to compute the BRIEF descriptor for the detected keypoints.  We need a function similar to the following one to do this:\n",
    "\n",
    "\\begin{equation}\n",
    "{\\tt [locs,desc] = computeBrief(im, locs, compareX, compareY)}\n",
    "\\end{equation}\n",
    "\n",
    "Where $\\texttt{im}$ is a grayscale image with values from 0 to 1, $\\texttt{locs}$ are the keypoint\n",
    "locations returned by a keypoint detector. ${\\tt\n",
    "compareX}$ and ${\\tt compareY}$ are the test patterns computed in\n",
    "Section 2.1 and were saved into ${\\tt testPattern.npy}$.\n",
    "\n",
    "In this problem, you are going to use the provided $\\texttt{DoGdetector}$ function to detect keypoints. This function returns two outputs: The first one is ${\\tt locsDoG}$, $(m, 3)$, where the first two columns are the image coordinates of keypoints and the last column is the Gaussian pyramid levels from which the keypoints were detected. The second output is ${\\tt gaussPyramid}$, $(h, w, l)$, where $(h, w)$ is the image dimension and $l$ is the number of levels. Instead of using $\\texttt{im}$ as the input of ${\\tt computeBrief()}$, we are going to use ${\\tt gaussPyramid}$ in this problem:\n",
    "\n",
    "\\begin{equation}\n",
    "{\\tt [locs,desc] = computeBrief(gaussPyramid, locsDoG, compareX, compareY)}\n",
    "\\end{equation}\n",
    "\n",
    "For computing the BRIEF of a keypoint, you can first identify the level of this keypoint using the last column of ${\\tt locsDoG}$, and then compute the BRIEF using the image patch from that level of the Gaussian pyramid.\n",
    "\n",
    "The function returns ${\\tt locs}$, an $m \\times 2$ vector, where the two\n",
    "columns are the image coordinates of keypoints, and ${\\tt desc}$, an $m \\times n \\space{ } bits$ matrix of\n",
    "stacked BRIEF descriptors. $m$ is the number of valid descriptors in the image\n",
    "and will vary. $n$ is the number of bits for the BRIEF descriptor. You may have to be careful about the input detector locations\n",
    "since they may be at the edge of an image where we cannot extract a full patch\n",
    "of width $\\texttt{patchWidth}$. Thus, the number of output $\\texttt{locs}$ may be\n",
    "less than the input."
   ]
  },
  {
   "cell_type": "code",
   "execution_count": 63,
   "id": "combined-arthur",
   "metadata": {
    "deletable": false,
    "nbgrader": {
     "cell_type": "code",
     "checksum": "0ba8305e1203454b5f564651dab97e39",
     "grade": false,
     "grade_id": "q2_2_answer",
     "locked": false,
     "schema_version": 3,
     "solution": true,
     "task": false
    }
   },
   "outputs": [],
   "source": [
    "def computeBrief(gaussPyramid, locsDoG, compareX, compareY):\n",
    "    '''\n",
    "    Compute Brief feature\n",
    "     INPUT\n",
    "     gaussPyramid - the input Gaussian pyramid, (h, w, l).\n",
    "     locsDoG - the keypoints detected by the DOGDetector, (m, 3).\n",
    "     compareX and compareY - linear indices into the \n",
    "                             (patch_width x patch_width) image patch and are\n",
    "                             each (nbits, 1) vectors.\n",
    "                            \n",
    "     OUTPUT\n",
    "     newlocs - an m x 2 vector, where the two columns are the image\n",
    "    \t\t coordinates of keypoints.\n",
    "     desc - an m x n bits matrix of stacked BRIEF descriptors. m is the number\n",
    "            of valid descriptors in the image.\n",
    "    '''\n",
    "    # Hint: you need to:\n",
    "    #  1) Remove those invalid locations (close to the image edges);\n",
    "    #  2) Compute the BRIEF feature for those valid keypoints.\n",
    "    # YOUR CODE HERE\n",
    "    newlocs = []\n",
    "    desc = []\n",
    "    S = 9\n",
    "    patch_w = S // 2\n",
    "    h = gaussPyramid.shape[0]\n",
    "    w = gaussPyramid.shape[1]\n",
    "    for loc in locsDoG:\n",
    "        x_margin = np.minimum(loc[0], h - loc[0] - 1)\n",
    "        y_margin = np.minimum(loc[1], w - loc[1] - 1)\n",
    "        \n",
    "        if x_margin < patch_w or y_margin < patch_w:\n",
    "            continue\n",
    "        else:\n",
    "            image = gaussPyramid[:, :, loc[2]]\n",
    "            patch = image[loc[0] - patch_w:loc[0] + patch_w + 1, loc[1] - patch_w:loc[1] + patch_w + 1].flatten()\n",
    "            loc_desc = (patch[compareX] < patch[compareY]).astype(float)\n",
    "            newlocs.append([loc[1], loc[0]])\n",
    "            desc.append(loc_desc)\n",
    "            \n",
    "    newlocs = np.array(newlocs)\n",
    "    desc = np.array(desc)\n",
    "    \n",
    "    return newlocs, desc"
   ]
  },
  {
   "cell_type": "code",
   "execution_count": 64,
   "id": "available-friday",
   "metadata": {
    "deletable": false,
    "editable": false,
    "nbgrader": {
     "cell_type": "code",
     "checksum": "c2ac0adb905a5f782c763dbf11ba3aab",
     "grade": true,
     "grade_id": "q2_2",
     "locked": true,
     "points": 5,
     "schema_version": 3,
     "solution": false,
     "task": false
    }
   },
   "outputs": [],
   "source": [
    "### HIDDEN TEST CELL\n",
    "# Hint: We will use the 'pf_scan_scaled.jpg' for this test.\n",
    "# The output \"newlocs\" and \"desc\" should have the same first dimension."
   ]
  },
  {
   "cell_type": "markdown",
   "id": "furnished-constraint",
   "metadata": {
    "deletable": false,
    "editable": false,
    "nbgrader": {
     "cell_type": "markdown",
     "checksum": "ebd061874075d1eceb8711557cfb9de1",
     "grade": false,
     "grade_id": "q2-note6",
     "locked": true,
     "schema_version": 3,
     "solution": false,
     "task": false
    }
   },
   "source": [
    "### 2.3 Putting it all Together (5 pts)\n",
    "\n",
    "#### Q 2.3\n",
    "\n",
    "Write a function :\n",
    "\n",
    "\\begin{equation}\n",
    "{\\tt [locs, desc] = briefLite(im)}\n",
    "\\end{equation}\n",
    "which accepts a grayscale image ${\\tt im}$ with values between zero and one and\n",
    "returns ${\\tt locs}$, an $m \\times 2$ vector, where the two columns are the\n",
    "image coordinates of keypoints, and ${\\tt desc}$, an $m \\times n~bits$ matrix of stacked BRIEF\n",
    "descriptors. $m$ is the number of valid descriptors in the image and will vary.\n",
    "$n$ is the number of bits for the BRIEF descriptor.\n",
    "\n",
    "This function should perform all the necessary steps to extract the descriptors from the image, including\n",
    "   - Load parameters and test patterns\n",
    "   - Get keypoint locations\n",
    "   - Compute a set of valid BRIEF descriptors"
   ]
  },
  {
   "cell_type": "code",
   "execution_count": 95,
   "id": "weighted-trinity",
   "metadata": {
    "deletable": false,
    "nbgrader": {
     "cell_type": "code",
     "checksum": "14f24e09b6021616aec573c6ce7a6e7e",
     "grade": false,
     "grade_id": "q2_3_answer",
     "locked": false,
     "schema_version": 3,
     "solution": true,
     "task": false
    }
   },
   "outputs": [],
   "source": [
    "def briefLite(im):\n",
    "    '''\n",
    "    Given an image, detect the keypoints and describe the keypoints with descriptors.\n",
    "    \n",
    "    INPUTS\n",
    "        im - gray image with values between 0 and 1\n",
    "    OUTPUTS\n",
    "        locs - an m x 3 vector, where the first two columns are the image coordinates \n",
    "                of keypoints and the third column is the pyramid level of the keypoints\n",
    "        desc - an m x n bits matrix of stacked BRIEF descriptors. \n",
    "                m is the number of valid descriptors in the image and will vary\n",
    "                n is the number of bits for the BRIEF descriptor\n",
    "    '''\n",
    "    # Hint: Use the provided \"DoGdetector()\" obtain the smoothed Gaussian pyramid and\n",
    "    # the keypoints, and use them as the input of \"computeBrief()\"\n",
    "    # YOUR CODE HERE\n",
    "    locsDoG, gauss_pyramid = DoGdetector(im)\n",
    "    pattern_file = np.load('data/testPattern.npy')\n",
    "    compareX = pattern_file[0].flatten()\n",
    "    compareY = pattern_file[1].flatten()\n",
    "    locs, desc = computeBrief(gauss_pyramid, locsDoG, compareX, compareY)\n",
    "    return locs, desc"
   ]
  },
  {
   "cell_type": "code",
   "execution_count": 96,
   "id": "significant-hampton",
   "metadata": {
    "deletable": false,
    "editable": false,
    "nbgrader": {
     "cell_type": "code",
     "checksum": "470af1da813910fa20b60b5a7876db8c",
     "grade": true,
     "grade_id": "q2_3",
     "locked": true,
     "points": 5,
     "schema_version": 3,
     "solution": false,
     "task": false
    }
   },
   "outputs": [],
   "source": [
    "### HIDDEN TEST CELL\n",
    "# Hint: We will use the 'pf_scan_scaled.jpg' for this test.\n",
    "# The output \"newlocs\" and \"desc\" should have the same first dimension."
   ]
  },
  {
   "cell_type": "code",
   "execution_count": 97,
   "id": "1ef6ec20",
   "metadata": {},
   "outputs": [
    {
     "name": "stdout",
     "output_type": "stream",
     "text": [
      "(440, 350)\n",
      "345 435\n",
      "(1050, 256)\n"
     ]
    }
   ],
   "source": [
    "image = cv2.imread(\"./data/pf_scan_scaled.jpg\")\n",
    "gray = cv2.cvtColor(image, cv2.COLOR_BGR2GRAY) * 1.0 / 255\n",
    "locs, desc = briefLite(image)\n",
    "print(gray.shape)\n",
    "print(np.max(locs[:, 0]), np.max(locs[:, 1]))\n",
    "print(desc.shape)"
   ]
  },
  {
   "cell_type": "markdown",
   "id": "mathematical-place",
   "metadata": {
    "deletable": false,
    "editable": false,
    "nbgrader": {
     "cell_type": "markdown",
     "checksum": "82106d6f5ebe769c4cd26ada04ed5974",
     "grade": false,
     "grade_id": "q2-note7",
     "locked": true,
     "schema_version": 3,
     "solution": false,
     "task": false
    }
   },
   "source": [
    "### 2.4 Check Point: Descriptor Matching (5 pts)\n",
    "\n",
    "A descriptor's strength is in its ability to match to other descriptors\n",
    "generated by the same world point, despite change of view, lighting, etc. The\n",
    "distance metric used to compute the similarity between two descriptors is\n",
    "critical. For BRIEF, this distance metric is the Hamming distance. The Hamming\n",
    "distance is simply the number of bits in two descriptors that differ. (Note that\n",
    "the position of the bits matters.)  \n",
    "\n",
    "\n",
    "To perform the descriptor matching mentioned above, we have provided the function:\n",
    "\n",
    "\\begin{equation}\n",
    "{\\tt [matches] = briefMatch(desc1, desc2, ratio)}\n",
    "\\end{equation}\n",
    "\n",
    "Which accepts an $m_1 \\times n~bits$ stack of BRIEF descriptors from a first image\n",
    "and a $m_2 \\times n~bits$ stack of BRIEF descriptors from a second image and\n",
    "returns a $p \\times 2$ matrix of matches, where the first column are indices\n",
    "into ${\\tt desc1}$ and the second column are indices into ${\\tt desc2}$. Note that\n",
    "$m_1$, $m_2$, and $p$ may be different sizes and $p \\leq \\text{min}\\left(\n",
    "m_1,m_2\n",
    "\\right)$.\n",
    "\n",
    "For a better visual understanding of the result, we have provided a function for\n",
    "you to plot the matched keypoint correspondences:\n",
    "\n",
    "\\begin{equation}\n",
    "{\\tt plotMatches(im1, im2, matches, locs1, locs2)}\n",
    "\\end{equation}\n",
    "\n",
    "where ${\\tt im1}$ and ${\\tt im2}$ are grayscale images from $0$ to $1$,\n",
    "$\\texttt{matches}$ is the list of matches returned by ${\\tt briefMatch}$ and ${\\tt\n",
    "locs1}$ and ${\\tt locs2}$ are the locations of keypoints from ${\\tt briefLite}$.  \n",
    "\n",
    "#### Q 2.4\n",
    "\n",
    "Write a test script ${\\tt testMatch}$ to load\n",
    "two of the $\\textit{chickenbroth}$ images, compute feature matches.\n",
    "\n",
    "**This problem will be manually graded.** Save the resulting figure and submit it in your PDF. Briefly discuss any cases that perform worse or better.\n",
    "\n",
    "Fig 2.1 is an example result.  \n",
    "_Suggest for debugging: A good test of your code is to\n",
    "check that you can match an image to itself._\n",
    "\n",
    "|<img align=\"center\" src=\"figure/matches.png\" width=\"500\">|\n",
    "|:--:|\n",
    "|Fig 2.1 Example of BRIEF matches for model chickenbroth.jpg and chickenbroth\\_01.jpg.|"
   ]
  },
  {
   "cell_type": "code",
   "execution_count": 98,
   "id": "cross-romania",
   "metadata": {
    "deletable": false,
    "editable": false,
    "nbgrader": {
     "cell_type": "code",
     "checksum": "7d3887a2dbd55560d461868de981a271",
     "grade": false,
     "grade_id": "q2-code5",
     "locked": true,
     "schema_version": 3,
     "solution": false,
     "task": false
    }
   },
   "outputs": [],
   "source": [
    "def briefMatch(desc1, desc2, ratio=0.8):\n",
    "    '''\n",
    "    Performs the descriptor matching.\n",
    "    \n",
    "    INPUTS\n",
    "        desc1 , desc2 - m1 x n and m2 x n matrix. m1 and m2 are the number of keypoints in\n",
    "                        image 1 and 2. n is the number of bits in the brief\n",
    "    OUTPUT\n",
    "        matches - p x 2 matrix. where the first column are indices\n",
    "                  into desc1 and the second column are indices into desc2\n",
    "    '''\n",
    "    D = cdist(np.float32(desc1), np.float32(desc2), metric='hamming')\n",
    "    # find the smallest distance\n",
    "    ix2 = np.argmin(D, axis=1)\n",
    "    d1 = D.min(1)\n",
    "    # find the second smallest distance\n",
    "    d12 = np.partition(D, 2, axis=1)[:,0:2]\n",
    "    d2 = d12.max(1)\n",
    "    r = d1/(d2+1e-10)\n",
    "    is_discr = r<ratio\n",
    "    ix2 = ix2[is_discr]\n",
    "    ix1 = np.arange(D.shape[0])[is_discr]\n",
    "    matches = np.stack((ix1,ix2), axis=-1)\n",
    "    return matches\n",
    "\n",
    "def plotMatches(im1, im2, matches, locs1, locs2):\n",
    "    fig = plt.figure()\n",
    "    # draw two images side by side\n",
    "    imH = max(im1.shape[0], im2.shape[0])\n",
    "    im = np.zeros((imH, im1.shape[1]+im2.shape[1]), dtype='uint8')\n",
    "    im[0:im1.shape[0], 0:im1.shape[1]] = cv2.cvtColor(im1, cv2.COLOR_BGR2GRAY)\n",
    "    im[0:im2.shape[0], im1.shape[1]:] = cv2.cvtColor(im2, cv2.COLOR_BGR2GRAY)\n",
    "    plt.imshow(im, cmap='gray')\n",
    "    for i in range(matches.shape[0]):\n",
    "        pt1 = locs1[matches[i,0], 0:2]\n",
    "        pt2 = locs2[matches[i,1], 0:2].copy()\n",
    "        pt2[0] += im1.shape[1]\n",
    "        x = np.asarray([pt1[0], pt2[0]])\n",
    "        y = np.asarray([pt1[1], pt2[1]])\n",
    "        plt.plot(x,y,'r')\n",
    "        plt.plot(x,y,'g.')\n",
    "    plt.show()"
   ]
  },
  {
   "cell_type": "code",
   "execution_count": 99,
   "id": "a3db5a92",
   "metadata": {
    "scrolled": true
   },
   "outputs": [
    {
     "data": {
      "image/png": "[encoded data removed]",
      "text/plain": [
       "<Figure size 432x288 with 1 Axes>"
      ]
     },
     "metadata": {
      "needs_background": "light"
     },
     "output_type": "display_data"
    }
   ],
   "source": [
    "def image_to_descriptors(path):\n",
    "    image = cv2.imread(path)\n",
    "    gray = cv2.cvtColor(image, cv2.COLOR_BGR2GRAY) * 1.0 / 255\n",
    "    locs, desc = briefLite(image)\n",
    "    return locs, desc, image\n",
    "\n",
    "locs1, desc1, gray1 = image_to_descriptors(\"./data/chickenbroth_01.jpg\")\n",
    "locs2, desc2, gray2 = image_to_descriptors(\"./data/chickenbroth_03.jpg\")\n",
    "\n",
    "matches = briefMatch(desc1, desc2)\n",
    "plotMatches(gray1, gray2, matches, locs1, locs2)"
   ]
  },
  {
   "cell_type": "markdown",
   "id": "shared-ridge",
   "metadata": {
    "deletable": false,
    "editable": false,
    "nbgrader": {
     "cell_type": "markdown",
     "checksum": "57b042ca969786fb6778542d92bf5fa0",
     "grade": false,
     "grade_id": "q2-note8",
     "locked": true,
     "schema_version": 3,
     "solution": false,
     "task": false
    }
   },
   "source": [
    "### 2.5 BRIEF and rotations (5 pts)\n",
    "\n",
    "You may have noticed worse performance under rotations. Let's investigate this!\n",
    "\n",
    "#### Q 2.5\n",
    "\n",
    "Take the $\\texttt{model_chickenbroth.jpg}$\n",
    "test image and match it to itself while rotating the second image (hint:\n",
    "$\\texttt{imrotate}$) in increments of 10 degrees. Count the number of correct\n",
    "matches at each rotation and construct a bar graph showing rotation angle vs the\n",
    "number of correct matches.  \n",
    "\n",
    "**This problem will be manually graded.** Include your code and the historgram figure in your PDF, and explain why you think  the descriptor behaves this way."
   ]
  },
  {
   "cell_type": "code",
   "execution_count": null,
   "id": "46c07f80",
   "metadata": {},
   "outputs": [],
   "source": []
  },
  {
   "cell_type": "markdown",
   "id": "fifty-problem",
   "metadata": {
    "deletable": false,
    "editable": false,
    "nbgrader": {
     "cell_type": "markdown",
     "checksum": "f321731824ed0df5f77ae1c45b9442e7",
     "grade": false,
     "grade_id": "q2-note9",
     "locked": true,
     "schema_version": 3,
     "solution": false,
     "task": false
    }
   },
   "source": [
    "### 2.6 Improving Performance - (Extra Credit, 10 pts)\n",
    "\n",
    "The extra credit opportunities described below are optional and provide an\n",
    "avenue to explore computer vision and improve the performance of the techniques developed above.\n",
    "\n",
    "**This problem will be manually graded.**\n",
    "\n",
    "   1. ($\\textbf{5 pts}$) As we have seen, BRIEF is not rotation invariant. Design a simple fix to solve this problem using the tools you have developed so far (think back to edge detection and/or Harris corner's covariance matrix).  Include the code in your PDF, and explain your design decisions and how you selected any parameters that you use. Demonstrate the effectiveness of your algorithm on image pairs related by large rotation.\n",
    "\n",
    "   2. ($\\textbf{5 pts}$) This implementation of BRIEF has some scale invariance, but there are limits.  What happens when you match a picture to the same picture at half the size?  Look to section 3 of [Lowe2004](https://www.cs.ubc.ca/~lowe/papers/ijcv04.pdf) for a technique that will make your detector more robust to changes in scale. Implement it and demonstrate it in action with several test images. Include yout code and the test images in your PDF. You may simply rescale some of the test images we have given you. "
   ]
  }
 ],
 "metadata": {
  "kernelspec": {
   "display_name": "Python 3",
   "language": "python",
   "name": "python3"
  },
  "language_info": {
   "codemirror_mode": {
    "name": "ipython",
    "version": 3
   },
   "file_extension": ".py",
   "mimetype": "text/x-python",
   "name": "python",
   "nbconvert_exporter": "python",
   "pygments_lexer": "ipython3",
   "version": "3.6.13"
  },
  "toc-autonumbering": false
 },
 "nbformat": 4,
 "nbformat_minor": 5
}
