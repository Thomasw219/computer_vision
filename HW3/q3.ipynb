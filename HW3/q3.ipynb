{
 "cells": [
  {
   "cell_type": "markdown",
   "id": "dc9ffcad",
   "metadata": {
    "deletable": false,
    "editable": false,
    "nbgrader": {
     "cell_type": "markdown",
     "checksum": "ca12c7bb43727c3a14389e51d730ef6f",
     "grade": false,
     "grade_id": "cell-fdb7170a3b560726",
     "locked": true,
     "schema_version": 3,
     "solution": false,
     "task": false
    }
   },
   "source": [
    "<img align=\"center\" src=\"figures/course.png\" width=\"800\">\n",
    "\n",
    "#                                    16720 (B) Neural Networks for Recognition - Assignment 3\n",
    "\n",
    "     Instructor: Kris Kitani                       TAs: Qichen(Lead), Paritosh, Rawal, Yan, Zen, Wen-Hsuan"
   ]
  },
  {
   "cell_type": "markdown",
   "id": "bbd4277e",
   "metadata": {
    "deletable": false,
    "editable": false,
    "nbgrader": {
     "cell_type": "markdown",
     "checksum": "f98f85b0c753b88d5ee2d5be5c6307ec",
     "grade": false,
     "grade_id": "cell-49cc5586a51e8016",
     "locked": true,
     "schema_version": 3,
     "solution": false,
     "task": false
    }
   },
   "source": [
    "## Q3 Training Models (20 points)\n",
    "\n",
    "**Please include all the write up answers below to theory.ipynb. For the questions need code, you need to include the screenshot of code to theory.ipynb to get points.**\n",
    "\n",
    "\n",
    "First, be sure to run the script, from inside the scripts folder, `get_data.sh`. This will use `wget` and `unzip` to download \n",
    "\n",
    "http://www.cs.cmu.edu/~lkeselma/16720a_data/data.zip\n",
    "\n",
    "\n",
    "http://www.cs.cmu.edu/~lkeselma/16720a_data/images.zip\n",
    "\n",
    "and extract them to **data** and **image** folders\n",
    "\n",
    "\n",
    "Since our input images are $32\\times 32$ images, unrolled into one 1024 dimensional vector, that gets multiplied by $\\textbf{W}^{(1)}$, each row of $\\textbf{W}^{(1)}$ can be seen as a weight image. Reshaping each row into a $32\\times 32$ image can give us an idea of what types of images each unit in the hidden layer has a high response to.\n",
    "\n",
    "We have provided you three data **.mat** files to use for this section. The training data in **nist36\\_train.mat** contains samples for each of the 26 upper-case letters of the alphabet and the 10 digits. This is the set you should use for training your network. The cross-validation set in **nist36\\_valid.mat** contains samples from each class, and should be used in the training loop to see how the network is performing on data that it is not training on. This will help to spot over fitting. Finally, the test data in **nist36\\_test.mat** contains testing data, and should be used for the final evaluation on your best model to see how well it will generalize to new unseen data."
   ]
  },
  {
   "cell_type": "markdown",
   "id": "58039fbc",
   "metadata": {
    "deletable": false,
    "editable": false,
    "nbgrader": {
     "cell_type": "markdown",
     "checksum": "0fc4f1e5d6be5699941ae5f801b1b785",
     "grade": false,
     "grade_id": "cell-5cbefbba60df5392",
     "locked": true,
     "schema_version": 3,
     "solution": false,
     "task": false
    }
   },
   "source": [
    "### Q3.1 (8 points Autograder)\n",
    "Train a network from scratch. Use a single hidden layer with 64 hidden units, and train for at least 30 epochs. **Modify** the script to generate two plots: one showing the accuracy on both the training and validation set over the epochs, and the other showing the cross-entropy loss averaged over the data. The x-axis should represent the epoch number, while the y-axis represents the accuracy or loss. With these settings, you should see an accuracy on the validation set of at least 75\\%."
   ]
  },
  {
   "cell_type": "code",
   "execution_count": null,
   "id": "207cc4c8",
   "metadata": {
    "deletable": false,
    "editable": false,
    "nbgrader": {
     "cell_type": "code",
     "checksum": "e32a9552bc82dea97ab6b8895ea809e3",
     "grade": false,
     "grade_id": "cell-6b02ceab80c20ce0",
     "locked": true,
     "schema_version": 3,
     "solution": false,
     "task": false
    }
   },
   "outputs": [],
   "source": [
    "import numpy as np\n",
    "import scipy.io\n",
    "from ipynb.fs.defs.q2 import *"
   ]
  },
  {
   "cell_type": "code",
   "execution_count": null,
   "id": "a6fbb5d2",
   "metadata": {
    "deletable": false,
    "nbgrader": {
     "cell_type": "code",
     "checksum": "0fcaf9936314ec7f81eed2426e3897a9",
     "grade": false,
     "grade_id": "cell-4cad4923aa0aed4b",
     "locked": false,
     "schema_version": 3,
     "solution": true,
     "task": false
    }
   },
   "outputs": [],
   "source": [
    "train_data = scipy.io.loadmat('data/nist36_train.mat')\n",
    "valid_data = scipy.io.loadmat('data/nist36_valid.mat')\n",
    "\n",
    "train_x, train_y = train_data['train_data'], train_data['train_labels']\n",
    "valid_x, valid_y = valid_data['valid_data'], valid_data['valid_labels']\n",
    "\n",
    "max_iters = 50\n",
    "# pick a batch size, learning rate\n",
    "batch_size = None\n",
    "learning_rate = None\n",
    "# YOUR CODE HERE\n",
    "raise NotImplementedError()\n",
    "hidden_size = 64\n",
    "\n",
    "batches = get_random_batches(train_x,train_y,batch_size)\n",
    "batch_num = len(batches)\n",
    "\n",
    "params = {}\n",
    "\n",
    "# initialize layers (named \"layer1\" and \"output\") here\n",
    "# YOUR CODE HERE\n",
    "raise NotImplementedError()\n",
    "\n",
    "\n",
    "# with default settings, you should get loss < 150 and accuracy > 80%\n",
    "for itr in range(max_iters):\n",
    "    total_loss = 0\n",
    "    total_acc = 0\n",
    "    for xb,yb in batches:\n",
    "        \n",
    "        # training loop can be exactly the same as q2!\n",
    "        # YOUR CODE HERE\n",
    "        raise NotImplementedError()\n",
    "    if itr % 2 == 0:\n",
    "        print(\"itr: {:02d} \\t loss: {:.2f} \\t acc : {:.2f}\".format(itr,total_loss,total_acc))\n",
    "\n",
    "# run on validation set and report accuracy! should be above 75%\n",
    "valid_acc = None\n",
    "# YOUR CODE HERE\n",
    "raise NotImplementedError()\n",
    "print('Validation accuracy: ',valid_acc)"
   ]
  },
  {
   "cell_type": "code",
   "execution_count": null,
   "id": "06530d34",
   "metadata": {
    "deletable": false,
    "editable": false,
    "nbgrader": {
     "cell_type": "code",
     "checksum": "80afa1f17dd8f3f40ed9690bcc6b831c",
     "grade": true,
     "grade_id": "q3_1",
     "locked": true,
     "points": 8,
     "schema_version": 3,
     "solution": false,
     "task": false
    }
   },
   "outputs": [],
   "source": [
    "assert 'Wlayer1' in params\n",
    "assert 'Woutput' in params\n"
   ]
  },
  {
   "cell_type": "markdown",
   "id": "fb44b178",
   "metadata": {
    "deletable": false,
    "editable": false,
    "nbgrader": {
     "cell_type": "markdown",
     "checksum": "f7000448bd3bb599894ec242ee1f9d7d",
     "grade": false,
     "grade_id": "cell-669f73e361158731",
     "locked": true,
     "schema_version": 3,
     "solution": false,
     "task": false
    }
   },
   "source": [
    "### Q3.2 (3 points Code+WriteUp)\n",
    "Use your modified training script to train three networks, one with your best learning rate, one with 10 times that learning rate and one with one tenth that learning rate. Include all 6 plots in your writeup. Comment on how the learning rates affect the training, and report the final accuracy of the best network on the test set.\n",
    "\n",
    "<font color=\"red\">**Please include the write up answer and the screenshot of code to theory.ipynb**</font>"
   ]
  },
  {
   "cell_type": "code",
   "execution_count": null,
   "id": "13d8f972",
   "metadata": {
    "deletable": false,
    "nbgrader": {
     "cell_type": "code",
     "checksum": "f9e4522361bde67edf75472b4558ac16",
     "grade": false,
     "grade_id": "cell-3cfad6793e727c87",
     "locked": false,
     "schema_version": 3,
     "solution": true,
     "task": false
    }
   },
   "outputs": [],
   "source": [
    "# Please put your code for Q3.2 here\n",
    "# YOUR CODE HERE\n",
    "raise NotImplementedError()"
   ]
  },
  {
   "cell_type": "markdown",
   "id": "58039fbd",
   "metadata": {
    "deletable": false,
    "editable": false,
    "nbgrader": {
     "cell_type": "markdown",
     "checksum": "4104f3b261d4997db8193e7e02fa3892",
     "grade": false,
     "grade_id": "cell-488493f16fa78628",
     "locked": true,
     "schema_version": 3,
     "solution": false,
     "task": false
    }
   },
   "source": [
    "### Q3.3 (2 points Code+WriteUp)\n",
    "Visualize the first layer weights that your network learned. Compare these to the network weights immediately after initialization. Include both visualizations in your writeup. Comment on the learned weights. Do you notice any patterns?\n",
    "\n",
    "<font color=\"red\">**Please include the write up answer and the screenshot of code to theory.ipynb**</font>"
   ]
  },
  {
   "cell_type": "code",
   "execution_count": null,
   "id": "ebfec5c2",
   "metadata": {
    "deletable": false,
    "nbgrader": {
     "cell_type": "code",
     "checksum": "56e1a760703f56f3a8d55d28866919be",
     "grade": false,
     "grade_id": "cell-a694786b973e334c",
     "locked": false,
     "schema_version": 3,
     "solution": true,
     "task": false
    }
   },
   "outputs": [],
   "source": [
    "import matplotlib.pyplot as plt\n",
    "from mpl_toolkits.axes_grid1 import ImageGrid\n",
    "# Please put your code for Q3.3 here\n",
    "# YOUR CODE HERE\n",
    "raise NotImplementedError()"
   ]
  },
  {
   "cell_type": "markdown",
   "id": "c6f940bf",
   "metadata": {
    "deletable": false,
    "editable": false,
    "nbgrader": {
     "cell_type": "markdown",
     "checksum": "9067d29f627f480a03dffb1c9854bc9d",
     "grade": false,
     "grade_id": "cell-9f8d5a8951a27d48",
     "locked": true,
     "schema_version": 3,
     "solution": false,
     "task": false
    }
   },
   "source": [
    "### Q3.4 (3 points Code+WriteUp)\n",
    "To visualize the deeper second layer we use the following method:\n",
    "\n",
    "Given $y_1$ (size 64) as the output of the first layer and $y_2$ (size 36) as the output of the second layer. We will take a [one-hot encoding](https://en.wikipedia.org/wiki/One-hot) for any number $i$ in range $[0, 36)$ and multiply it with the transposed weight matrix of layer 2, $W_2^T$. Similarly multiply the output with $W_1^T$ to get back an array of the size of the input image (1024). Reshape and visualize the result.\n",
    "\n",
    "For these values of $i$, additionally include the image in the validation set for which $y_2(i)$ attains it's maximum value.\n",
    "\n",
    "<font color=\"red\">**Please include the write up answer and the screenshot of code to theory.ipynb**</font>"
   ]
  },
  {
   "cell_type": "code",
   "execution_count": null,
   "id": "2d46bb12",
   "metadata": {
    "deletable": false,
    "nbgrader": {
     "cell_type": "code",
     "checksum": "b4d1fedb587494654d81e0ac93bb80c5",
     "grade": false,
     "grade_id": "cell-b6688d45bb11b1d7",
     "locked": false,
     "schema_version": 3,
     "solution": true,
     "task": false
    }
   },
   "outputs": [],
   "source": [
    "# Please put your code for Q3.4 here\n",
    "# YOUR CODE HERE\n",
    "raise NotImplementedError()"
   ]
  },
  {
   "cell_type": "markdown",
   "id": "ca82f0ea",
   "metadata": {
    "deletable": false,
    "editable": false,
    "nbgrader": {
     "cell_type": "markdown",
     "checksum": "eb0bb04fa5408ef9d07afe6387fc303e",
     "grade": false,
     "grade_id": "cell-7b4a7b96b085428c",
     "locked": true,
     "schema_version": 3,
     "solution": false,
     "task": false
    }
   },
   "source": [
    "### Q3.5 (4 points Code+WriteUp)\n",
    "Visualize the confusion matrix for your best model for the test set. Comment on the top few pairs of classes that are most commonly confused.\n",
    "\n",
    "<font color=\"red\">**Please include the write up answer and the screenshot of code to theory.ipynb**</font>"
   ]
  },
  {
   "cell_type": "code",
   "execution_count": null,
   "id": "a9bca2d7",
   "metadata": {
    "deletable": false,
    "nbgrader": {
     "cell_type": "code",
     "checksum": "83b7cf5eab468e7787d73a5f085b52fe",
     "grade": false,
     "grade_id": "cell-6e725b375de22eca",
     "locked": false,
     "schema_version": 3,
     "solution": true,
     "task": false
    }
   },
   "outputs": [],
   "source": [
    "import matplotlib.pyplot as plt\n",
    "confusion_matrix = np.zeros((train_y.shape[1],train_y.shape[1]))\n",
    "# YOUR CODE HERE\n",
    "raise NotImplementedError()\n",
    "import string\n",
    "plt.imshow(confusion_matrix,interpolation='nearest')\n",
    "plt.grid(True)\n",
    "plt.xticks(np.arange(36),string.ascii_uppercase[:26] + ''.join([str(_) for _ in range(10)]))\n",
    "plt.yticks(np.arange(36),string.ascii_uppercase[:26] + ''.join([str(_) for _ in range(10)]))\n",
    "plt.show()"
   ]
  }
 ],
 "metadata": {
  "@webio": {
   "lastCommId": null,
   "lastKernelId": null
  },
  "kernelspec": {
   "display_name": "Python 3 (ipykernel)",
   "language": "python",
   "name": "python3"
  },
  "language_info": {
   "codemirror_mode": {
    "name": "ipython",
    "version": 3
   },
   "file_extension": ".py",
   "mimetype": "text/x-python",
   "name": "python",
   "nbconvert_exporter": "python",
   "pygments_lexer": "ipython3",
   "version": "3.9.6"
  }
 },
 "nbformat": 4,
 "nbformat_minor": 5
}
