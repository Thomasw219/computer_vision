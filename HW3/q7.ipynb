{
 "cells": [
  {
   "cell_type": "markdown",
   "id": "ef482389",
   "metadata": {
    "deletable": false,
    "editable": false,
    "nbgrader": {
     "cell_type": "markdown",
     "checksum": "bf54c97f500c5b9b4de4f8b8c529e782",
     "grade": false,
     "grade_id": "cell-13f53db58aca8872",
     "locked": true,
     "schema_version": 3,
     "solution": false,
     "task": false
    }
   },
   "source": [
    "<img align=\"center\" src=\"figures/course.png\" width=\"800\">\n",
    "\n",
    "#                                    16720 (B) Neural Networks for Recognition - Assignment 3\n",
    "\n",
    "     Instructor: Kris Kitani                       TAs: Qichen(Lead), Paritosh, Rawal, Yan, Zen, Wen-Hsuan"
   ]
  },
  {
   "cell_type": "markdown",
   "id": "2bc80285",
   "metadata": {
    "deletable": false,
    "editable": false,
    "nbgrader": {
     "cell_type": "markdown",
     "checksum": "c4586f3018bb60f22fadb17b4b790e22",
     "grade": false,
     "grade_id": "cell-6401c946baf292ff",
     "locked": true,
     "schema_version": 3,
     "solution": false,
     "task": false
    }
   },
   "source": [
    "## Q7 PyTorch (40 points)\n",
    "\n",
    "**Please include all the write up answers below to theory.ipynb. For the questions need code, you need to include the screenshot of code to theory.ipynb to get points.**\n",
    "\n",
    "While you were able to derive manual back-propagation rules for sigmoid and fully-connected layers, wouldn't it be nice if someone did that for lots of useful primatives and made it fast and easy to use for general computation?  Meet [automatic differentiation](https://en.wikipedia.org/wiki/Automatic_differentiation). Since we have high-dimensional inputs (images) and low-dimensional outputs (a scalar loss), it turns out **forward mode AD** is very efficient. Popular autodiff packages include [pytorch](https://pytorch.org/) (Facebook), [tensorflow](https://www.tensorflow.org/) (Google), [autograd](https://github.com/HIPS/autograd) (Boston-area academics). Autograd provides its own replacement for numpy operators and is a drop-in replacement for numpy, except you can ask for gradients now. The other two are able to act as shim layers for [cuDNN](https://developer.nvidia.com/cudnn), an implementation of auto-diff made by Nvidia for use on their GPUs. Since GPUs are able to perform large amounts of math much faster than CPUs, this makes the former two packages very popular for researchers who train large networks. Tensorflow asks you to build a computational graph using its API, and then is able to pass data through that graph. PyTorch builds a dynamic graph and allows you to mix autograd functions with normal python code much more smoothly, so it is currently more popular among CMU students. \n",
    "\n",
    "We will use [pytorch](https://pytorch.org/) as a framework. Many computer vision projects use neural networks as a basic building block, so familiarity with one of these frameworks is a good skill to develop. Here, we basically replicate and slightly expand our handwritten character recognition networks, but do it in PyTorch instead of doing it ourselves. Feel free to use any tutorial you like, but we like [the offical one](https://pytorch.org/tutorials/beginner/deep_learning_60min_blitz.html) or [this tutorial](http://cs231n.stanford.edu/notebooks/pytorch_tutorial.ipynb) (in a jupyter notebook) or [these slides](http://cs231n.stanford.edu/slides/2018/cs231n_2018_lecture08.pdf (starting from number 35).\n",
    "\n",
    "**For this section, you're free to implement these however you like. All of the tasks required here are fairly small and don't require a GPU if you use small networks. Including 7.2.**"
   ]
  },
  {
   "cell_type": "markdown",
   "id": "b98c1f2a",
   "metadata": {
    "deletable": false,
    "editable": false,
    "nbgrader": {
     "cell_type": "markdown",
     "checksum": "6b35d3d48d6c0a95815528f012c4196c",
     "grade": false,
     "grade_id": "cell-5c75db14ea00d1ae",
     "locked": true,
     "schema_version": 3,
     "solution": false,
     "task": false
    }
   },
   "source": [
    "### Q7.1 Train a neural network in PyTorch"
   ]
  },
  {
   "cell_type": "markdown",
   "id": "9223d5f9",
   "metadata": {
    "deletable": false,
    "editable": false,
    "nbgrader": {
     "cell_type": "markdown",
     "checksum": "f7715d4fde161c7796462b4a9ea0fa7f",
     "grade": false,
     "grade_id": "cell-6a8302ccaf83c369",
     "locked": true,
     "schema_version": 3,
     "solution": false,
     "task": false
    }
   },
   "source": [
    "#### Q7.1.1 (10 Points Code+WriteUp)\n",
    " \n",
    "Re-write and re-train your fully-connected network on NIST36 in PyTorch. Plot training accuracy and loss over time.\n",
    "\n",
    "<font color=\"red\">**Please include the write up answer and the screenshot of code to theory.ipynb**</font>"
   ]
  },
  {
   "cell_type": "code",
   "execution_count": null,
   "id": "eef1c250",
   "metadata": {
    "deletable": false,
    "nbgrader": {
     "cell_type": "code",
     "checksum": "c33617c715bd40b0b810685f9adb676a",
     "grade": true,
     "grade_id": "cell-88a606e8a400dc8b",
     "locked": false,
     "points": 10,
     "schema_version": 3,
     "solution": true,
     "task": false
    }
   },
   "outputs": [],
   "source": [
    "import numpy as np\n",
    "import scipy.io\n",
    "from ipynb.fs.defs.q2 import *\n",
    "import torch\n",
    "import torchvision.datasets\n",
    "import matplotlib.pyplot as plt\n",
    "\n",
    "# YOUR CODE HERE\n",
    "raise NotImplementedError()"
   ]
  },
  {
   "cell_type": "markdown",
   "id": "f08d0f13",
   "metadata": {
    "deletable": false,
    "editable": false,
    "nbgrader": {
     "cell_type": "markdown",
     "checksum": "320a893a9eb23a0dfaa328c0594d0452",
     "grade": false,
     "grade_id": "cell-532aaec5d587259a",
     "locked": true,
     "schema_version": 3,
     "solution": false,
     "task": false
    }
   },
   "source": [
    "#### Q7.1.2 (3 Points Code+WriteUp)\n",
    " \n",
    "Train a convolutional neural network with PyTorch on MNIST. Plot training accuracy and loss over time.\n",
    "\n",
    "<font color=\"red\">**Please include the write up answer and the screenshot of code to theory.ipynb**</font>"
   ]
  },
  {
   "cell_type": "code",
   "execution_count": null,
   "id": "02227711",
   "metadata": {
    "deletable": false,
    "nbgrader": {
     "cell_type": "code",
     "checksum": "0b2a076262c25e7e0f4b60af03ce7d95",
     "grade": true,
     "grade_id": "cell-db5a77f9ccaf8fd3",
     "locked": false,
     "points": 3,
     "schema_version": 3,
     "solution": true,
     "task": false
    }
   },
   "outputs": [],
   "source": [
    "import numpy as np\n",
    "import scipy.io\n",
    "import torch\n",
    "import torchvision\n",
    "from torch import nn, optim\n",
    "import torch.nn.functional as F  # a lower level (compared to torch.nn) interface\n",
    "from torch.utils.data import Dataset, DataLoader\n",
    "from torchvision.datasets import MNIST\n",
    "import torchvision.transforms as transforms\n",
    "from time import time\n",
    "\n",
    "# Use GPU if available, otherwise stick with cpu\n",
    "use_cuda = torch.cuda.is_available()\n",
    "torch.manual_seed(123)\n",
    "device = torch.device(\"cuda\" if use_cuda else \"cpu\")\n",
    "print(\"device = {}\".format(device))\n",
    "\n",
    "print(\"Get dataset\")\n",
    "mnist_train = MNIST(root=\"data\", train=True, download=True, transform=transforms.ToTensor())\n",
    "trainset_loader = DataLoader(mnist_train, batch_size=20, shuffle=True, num_workers=1)\n",
    "\n",
    "mnist_test = MNIST(root=\"data\", train=False, download=True, transform=transforms.ToTensor())\n",
    "testset_loader = DataLoader(mnist_test, batch_size=20, shuffle=True, num_workers=1)\n",
    "\n",
    "print(\"dataset size train, test\")\n",
    "print(trainset_loader.dataset.data.shape)\n",
    "print(testset_loader.dataset.data.shape)\n",
    "\n",
    "# YOUR CODE HERE\n",
    "raise NotImplementedError()"
   ]
  },
  {
   "cell_type": "markdown",
   "id": "6d861662",
   "metadata": {
    "deletable": false,
    "editable": false,
    "nbgrader": {
     "cell_type": "markdown",
     "checksum": "b8efc5c0a19b68bcc677ed4e6f69ac97",
     "grade": false,
     "grade_id": "cell-224cbb8be1a16286",
     "locked": true,
     "schema_version": 3,
     "solution": false,
     "task": false
    }
   },
   "source": [
    "#### Q7.1.3 (2 Points Code+WriteUp)\n",
    " \n",
    "Train a convolutional neural network with PyTorch on the included NIST36 dataset. Plot training accuracy and loss over time.\n",
    "\n",
    "<font color=\"red\">**Please include the write up answer and the screenshot of code to theory.ipynb**</font>"
   ]
  },
  {
   "cell_type": "code",
   "execution_count": null,
   "id": "20761659",
   "metadata": {
    "deletable": false,
    "nbgrader": {
     "cell_type": "code",
     "checksum": "99709b3d4b6d3875e97c4f7bc7b53ccf",
     "grade": true,
     "grade_id": "cell-87cfe11794cd5054",
     "locked": false,
     "points": 2,
     "schema_version": 3,
     "solution": true,
     "task": false
    }
   },
   "outputs": [],
   "source": [
    "import numpy as np\n",
    "import scipy.io\n",
    "import torch\n",
    "from torch import nn, optim\n",
    "import torch.nn.functional as F  # a lower level (compared to torch.nn) interface\n",
    "from torch.utils.data import Dataset, DataLoader\n",
    "import torchvision\n",
    "import torchvision.transforms as transforms\n",
    "from time import time\n",
    "import matplotlib.pyplot as plt\n",
    "\n",
    "# Use GPU if available, otherwise stick with cpu\n",
    "use_cuda = torch.cuda.is_available()\n",
    "torch.manual_seed(123)\n",
    "device = torch.device(\"cuda\" if use_cuda else \"cpu\")\n",
    "print(\"device = {}\".format(device))\n",
    "\n",
    "print(\"Get dataset\")\n",
    "train_data = scipy.io.loadmat('data/nist36_train.mat')\n",
    "valid_data = scipy.io.loadmat('data/nist36_valid.mat')\n",
    "\n",
    "train_x, train_y = train_data['train_data'].astype(np.float32), train_data['train_labels'].astype(np.int)\n",
    "valid_x, valid_y = valid_data['valid_data'].astype(np.float32), valid_data['valid_labels'].astype(np.int)\n",
    "\n",
    "# YOUR CODE HERE\n",
    "raise NotImplementedError()"
   ]
  },
  {
   "cell_type": "markdown",
   "id": "f6e7e34e",
   "metadata": {
    "deletable": false,
    "editable": false,
    "nbgrader": {
     "cell_type": "markdown",
     "checksum": "e2b8dfb19dca06928b2fed38cc283a9f",
     "grade": false,
     "grade_id": "cell-b4fe717706236784",
     "locked": true,
     "schema_version": 3,
     "solution": false,
     "task": false
    }
   },
   "source": [
    "#### Q7.1.4 (15 Points Code+WriteUp)\n",
    " \n",
    "Train a convolutional neural network with PyTorch on the EMNIST Balanced dataset  (available in *torchvision.datasets*, use *balanced* split) and evaluate it on the findLetters bounded boxes from the images folder. Find the accuracy on these bounded boxes.\n",
    "\n",
    "<font color=\"red\">**Please include the write up answer and the screenshot of code to theory.ipynb**</font>"
   ]
  },
  {
   "cell_type": "code",
   "execution_count": null,
   "id": "3e00a6a4",
   "metadata": {
    "deletable": false,
    "nbgrader": {
     "cell_type": "code",
     "checksum": "556e9f146001dc2d77441e975cb9f9b2",
     "grade": true,
     "grade_id": "cell-96954b5ffa647538",
     "locked": false,
     "points": 15,
     "schema_version": 3,
     "solution": true,
     "task": false
    }
   },
   "outputs": [],
   "source": [
    "import numpy as np\n",
    "import scipy.io\n",
    "import torch\n",
    "from torch import nn, optim\n",
    "import torchvision\n",
    "import torch.nn.functional as F  # a lower level (compared to torch.nn) interface\n",
    "from torch.utils.data import Dataset, DataLoader\n",
    "from torchvision.datasets import EMNIST\n",
    "import torchvision.transforms as transforms\n",
    "from time import time\n",
    "\n",
    "# Use GPU if available, otherwise stick with cpu\n",
    "use_cuda = torch.cuda.is_available()\n",
    "torch.manual_seed(123)\n",
    "device = torch.device(\"cuda\" if use_cuda else \"cpu\")\n",
    "print(\"device = {}\".format(device))\n",
    "\n",
    "print(\"Get dataset\")\n",
    "\n",
    "EMNIST.url = 'http://www.itl.nist.gov/iaui/vip/cs_links/EMNIST/gzip.zip'\n",
    "# Reference for transform function\n",
    "# https://stackoverflow.com/a/54513835\n",
    "transform=torchvision.transforms.Compose([\n",
    "    lambda img: torchvision.transforms.functional.rotate(img, -90),\n",
    "    lambda img: torchvision.transforms.functional.hflip(img),\n",
    "    torchvision.transforms.ToTensor()\n",
    "])\n",
    "emnist_train = EMNIST(root=\"data\", split='balanced', train=True, download=True, transform=transform)\n",
    "trainset_loader = DataLoader(emnist_train, batch_size=20, shuffle=True, num_workers=1)\n",
    "\n",
    "emnist_test = EMNIST(root=\"data\", split='balanced', train=False, download=True, transform=transform)\n",
    "testset_loader = DataLoader(emnist_test, batch_size=20, shuffle=True, num_workers=1)\n",
    "\n",
    "# Ref: https://github.com/gaurav0651/emnist/blob/master/train_emnist.ipynb\n",
    "label_map = ['0','1','2','3','4','5','6','7','8','9',\n",
    "       'A','B','C','D','E','F','G','H','I','J','K','L','M','N','O','P','Q','R','S','T','U','V','W','X','Y','Z',\n",
    "       'a','b','d','e','f','g','h','n','q','r','t']\n",
    "\n",
    "print(trainset_loader.dataset.data.shape)\n",
    "print(trainset_loader.dataset.data.shape)\n",
    "print(testset_loader.dataset.data.shape)\n",
    "\n",
    "# YOUR CODE HERE\n",
    "raise NotImplementedError()"
   ]
  },
  {
   "cell_type": "markdown",
   "id": "3301e587",
   "metadata": {
    "deletable": false,
    "editable": false,
    "nbgrader": {
     "cell_type": "markdown",
     "checksum": "6f322c93d86608abcf989f5dad29594f",
     "grade": false,
     "grade_id": "cell-d3bb203777b72e08",
     "locked": true,
     "schema_version": 3,
     "solution": false,
     "task": false
    }
   },
   "source": [
    "### Q7.2 Fine Tuning"
   ]
  },
  {
   "cell_type": "markdown",
   "id": "4a65f628",
   "metadata": {
    "deletable": false,
    "editable": false,
    "nbgrader": {
     "cell_type": "markdown",
     "checksum": "e51996f861826437597be509707b7908",
     "grade": false,
     "grade_id": "cell-d067bc4110bebd56",
     "locked": true,
     "schema_version": 3,
     "solution": false,
     "task": false
    }
   },
   "source": [
    "#### Q7.2.1 (10 Points Code+WriteUp)\n",
    " \n",
    "Fine-tune a single layer classifier using pytorch on the [flowers 17](http://www.robots.ox.ac.uk/~vgg/data/flowers/17/index.html) (or [flowers 102](http://www.robots.ox.ac.uk/~vgg/data/flowers/102/index.html)!) dataset using [squeezenet1\\_1](https://pytorch.org/docs/stable/torchvision/models.html), as well as an architecture you've designed yourself (*3 conv layers, followed 2 fc layers, it's standard [slide 6](http://cs231n.stanford.edu/slides/2018/cs231n_2018_lecture09.pdf)*) and trained from scratch. How do they compare? \n",
    "    \n",
    "We include a script in `scripts/` to fetch the flowers dataset and extract it in a way that [PyTorch ImageFolder](https://pytorch.org/docs/stable/torchvision/datasets.html#imagefolder) can consume it, see [an example](https://pytorch.org/tutorials/beginner/data_loading_tutorial.html#afterword-torchvision), from **data/oxford-flowers17**. You should look at how SqueezeNet is [defined](https://github.com/pytorch/vision/blob/master/torchvision/models/squeezenet.py), and just replace the classifier layer. There exists a pretty good example for [fine-tuning](https://gist.github.com/jcjohnson/6e41e8512c17eae5da50aebef3378a4c) in PyTorch.\n",
    "\n",
    "<font color=\"red\">**Please include the write up answer and the screenshot of code to theory.ipynb**</font>"
   ]
  },
  {
   "cell_type": "code",
   "execution_count": null,
   "id": "9bc3b8e0",
   "metadata": {
    "deletable": false,
    "nbgrader": {
     "cell_type": "code",
     "checksum": "fdb148aeff7e12af6b301759804d1092",
     "grade": true,
     "grade_id": "cell-a35068c20e20519b",
     "locked": false,
     "points": 10,
     "schema_version": 3,
     "solution": true,
     "task": false
    }
   },
   "outputs": [],
   "source": [
    "# Code for fine-tune squeezenet1_1\n",
    "# YOUR CODE HERE\n",
    "raise NotImplementedError()"
   ]
  },
  {
   "cell_type": "code",
   "execution_count": null,
   "id": "9aba22c3",
   "metadata": {
    "deletable": false,
    "nbgrader": {
     "cell_type": "code",
     "checksum": "95692dd504e0ccd968b109aacf6b1722",
     "grade": true,
     "grade_id": "cell-a94d41f5ea3dcc20",
     "locked": false,
     "points": 0,
     "schema_version": 3,
     "solution": true,
     "task": false
    }
   },
   "outputs": [],
   "source": [
    "# Code for fine-tune the network you designed\n",
    "# YOUR CODE HERE\n",
    "raise NotImplementedError()"
   ]
  }
 ],
 "metadata": {
  "kernelspec": {
   "display_name": "Python 3 (ipykernel)",
   "language": "python",
   "name": "python3"
  },
  "language_info": {
   "codemirror_mode": {
    "name": "ipython",
    "version": 3
   },
   "file_extension": ".py",
   "mimetype": "text/x-python",
   "name": "python",
   "nbconvert_exporter": "python",
   "pygments_lexer": "ipython3",
   "version": "3.9.6"
  }
 },
 "nbformat": 4,
 "nbformat_minor": 5
}
