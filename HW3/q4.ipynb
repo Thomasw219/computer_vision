{
 "cells": [
  {
   "cell_type": "markdown",
   "id": "6e2e1f7d",
   "metadata": {
    "deletable": false,
    "editable": false,
    "nbgrader": {
     "cell_type": "markdown",
     "checksum": "6c42f9d7cb29b206868290f1b831a70f",
     "grade": false,
     "grade_id": "cell-9e91f3f18e2f0746",
     "locked": true,
     "schema_version": 3,
     "solution": false,
     "task": false
    }
   },
   "source": [
    "<img align=\"center\" src=\"figures/course.png\" width=\"800\">\n",
    "\n",
    "#                                    16720 (B) Neural Networks for Recognition - Assignment 3\n",
    "\n",
    "     Instructor: Kris Kitani                       TAs: Qichen(Lead), Paritosh, Rawal, Yan, Zen, Wen-Hsuan"
   ]
  },
  {
   "cell_type": "markdown",
   "id": "d61fb3c7",
   "metadata": {
    "deletable": false,
    "editable": false,
    "nbgrader": {
     "cell_type": "markdown",
     "checksum": "10428476164dc2b80129a0d9c92b6f17",
     "grade": false,
     "grade_id": "cell-4ad5a6402c74aeff",
     "locked": true,
     "schema_version": 3,
     "solution": false,
     "task": false
    }
   },
   "source": [
    "## Q4 Extract Text from Images (35 points)\n",
    "\n",
    "**Please include all the write up answers below to theory.ipynb. For the questions need code, you need to include the screenshot of code to theory.ipynb to get points.**\n",
    "\n",
    "![](figures/annotatedLetters.jpg)\n",
    "<center>Sample image with handwritten characters annotated with boxes around each character</center>\n",
    "\n",
    "Now that you have a network that can recognize handwritten letters with reasonable accuracy, you can now use it to parse text in an image. Given an image with some text on it, our goal is to have a function that returns the actual text in the image. However, since your neural network expects a a binary image with a single character, you will need to process the input image to extract each character. There are various approaches that can be done so feel free to use any strategy you like.\n",
    "\n",
    "Here we outline one possible method, another is that given in a [tutorial](http://scikit-image.org/docs/dev/auto_examples/segmentation/plot_label.html)\n",
    "1. Process the image ([blur](http://scikit-image.org/docs/dev/auto_examples/filters/plot_denoise.html), [threshold](http://scikit-image.org/docs/dev/api/skimage.filters.html#skimage.filters.try_all_threshold), [opening morphology](http://scikit-image.org/docs/dev/api/skimage.morphology.html#skimage.morphology.opening), etc. (perhaps in that order)) to classify all pixels as being part of a character or background.\n",
    "2. Find connected groups of character pixels (see [skimage.measure.label](http://scikit-image.org/docs/dev/api/skimage.measure.html#skimage.measure.label)). Place a bounding box around each connected component.\n",
    "3. Group the letters based on which line of the text they are a part of, and sort each group so that the letters are in the order they appear on the page.\n",
    "4. Take each bounding box one at a time and resize it to $32\\times 32$, classify it with your network, and report the characters in order (inserting spaces when it makes sense).\n",
    "\n",
    "Since the network you trained likely does not have perfect accuracy, you can expect there to be some errors in your final text parsing. Whichever method you choose to implement for the character detection, you should be able to place a box on most of there characters in the image. We have provided you with **01\\_list.jpg**, **02\\_letters.jpg**, **03\\_haiku.jpg** and **04\\_deep.jpg** to test your implementation on."
   ]
  },
  {
   "cell_type": "markdown",
   "id": "c6df9d2b",
   "metadata": {
    "deletable": false,
    "editable": false,
    "nbgrader": {
     "cell_type": "markdown",
     "checksum": "7a4d5c702ec5cc53fa907944b5754ec3",
     "grade": false,
     "grade_id": "cell-f8a9268b86c6c4e8",
     "locked": true,
     "schema_version": 3,
     "solution": false,
     "task": false
    }
   },
   "source": [
    "### Q4.1 (3 points WriteUp)\n",
    "The method outlined above is pretty simplistic, and makes several assumptions. What are two big assumptions that the sample method makes. In your writeup, include two example images where you expect the character detection to fail (either miss valid letters, or respond to non-letters).\n",
    "\n",
    "<font color=\"red\">**Please include the write up answer to theory.ipynb**</font>"
   ]
  },
  {
   "cell_type": "markdown",
   "id": "818815a4",
   "metadata": {
    "deletable": false,
    "editable": false,
    "nbgrader": {
     "cell_type": "markdown",
     "checksum": "2978a50aecf562699f3bbb28ff98ccfe",
     "grade": false,
     "grade_id": "cell-31f1656690403e2c",
     "locked": true,
     "schema_version": 3,
     "solution": false,
     "task": false
    }
   },
   "source": [
    "### Q4.2 (13 points Code+WriteUp)\n",
    "Find letters in the image. Given an RGB image, this function should return bounding boxes for all of the located handwritten characters in the image, as well as a binary black-and-white version of the image \\texttt{im}. Each row of the matrix should contain **[y1,x1,y2,x2]** the positions of the top-left and bottom-right corners of the box. The black and white image should be floating point, 0 to 1, with the characters in black and background in white. \n",
    "\n",
    "<font color=\"red\">**Please include the write up answer and the screenshot of code to theory.ipynb**</font>"
   ]
  },
  {
   "cell_type": "code",
   "execution_count": null,
   "id": "7eda8dbd",
   "metadata": {
    "deletable": false,
    "nbgrader": {
     "cell_type": "code",
     "checksum": "960e19bfd58e3a164b94c7ebdd105f10",
     "grade": false,
     "grade_id": "cell-e7dae5ca903a2fc4",
     "locked": false,
     "schema_version": 3,
     "solution": true,
     "task": false
    }
   },
   "outputs": [],
   "source": [
    "import numpy as np\n",
    "\n",
    "import skimage\n",
    "import skimage.measure\n",
    "import skimage.color\n",
    "import skimage.restoration\n",
    "import skimage.io\n",
    "import skimage.filters\n",
    "import skimage.morphology\n",
    "import skimage.segmentation\n",
    "\n",
    "# takes a color image\n",
    "# returns a list of bounding boxes and black_and_white image\n",
    "def findLetters(image):\n",
    "    bboxes = []\n",
    "    bw = None\n",
    "    # insert processing in here\n",
    "    # one idea estimate noise -> denoise -> greyscale -> threshold -> morphology -> label -> skip small boxes \n",
    "    # this can be 10 to 15 lines of code using skimage functions\n",
    "    # YOUR CODE HERE\n",
    "    raise NotImplementedError()\n",
    "    return bboxes, bw"
   ]
  },
  {
   "cell_type": "markdown",
   "id": "1e26e2e8",
   "metadata": {
    "deletable": false,
    "editable": false,
    "nbgrader": {
     "cell_type": "markdown",
     "checksum": "048c5ff931753cd316f9629ec8ada47d",
     "grade": false,
     "grade_id": "cell-1adb2ce6c11e2792",
     "locked": true,
     "schema_version": 3,
     "solution": false,
     "task": false
    }
   },
   "source": [
    "### Q4.3 (6 points Code+WriteUp)\n",
    "Run `findLetters()` on all of the provided sample images in **images/**. Plot all of the located boxes on top of the image to show the accuracy of your `findLetters()` function. Include all the result images in your writeup.\n",
    "\n",
    "<font color=\"red\">**Please include the write up answer and the screenshot of code to theory.ipynb**</font>"
   ]
  },
  {
   "cell_type": "code",
   "execution_count": null,
   "id": "d32d3026",
   "metadata": {
    "deletable": false,
    "nbgrader": {
     "cell_type": "code",
     "checksum": "154fb23e8415aa59b81d3bcf6b615d23",
     "grade": false,
     "grade_id": "cell-5d334112fbfbd1cd",
     "locked": false,
     "schema_version": 3,
     "solution": true,
     "task": false
    }
   },
   "outputs": [],
   "source": [
    "import os\n",
    "import matplotlib.pyplot as plt\n",
    "import matplotlib.patches\n",
    "\n",
    "from ipynb.fs.defs.q2 import *\n",
    "\n",
    "# do not include any more libraries here!\n",
    "# no opencv, no sklearn, etc!\n",
    "import warnings\n",
    "warnings.simplefilter(action='ignore', category=FutureWarning)\n",
    "warnings.simplefilter(action='ignore', category=UserWarning)\n",
    "\n",
    "for img in os.listdir('images'):\n",
    "    im1 = skimage.img_as_float(skimage.io.imread(os.path.join('images',img)))\n",
    "    bboxes, bw = findLetters(im1)\n",
    "\n",
    "    plt.imshow(bw)\n",
    "    for bbox in bboxes:\n",
    "        minr, minc, maxr, maxc = bbox\n",
    "        rect = matplotlib.patches.Rectangle((minc, minr), maxc - minc, maxr - minr,\n",
    "                                fill=False, edgecolor='red', linewidth=2)\n",
    "        plt.gca().add_patch(rect)\n",
    "    plt.show()\n",
    "    # find the rows using..RANSAC, counting, clustering, etc.\n",
    "    # YOUR CODE HERE\n",
    "    raise NotImplementedError()\n",
    "    # crop the bounding boxes\n",
    "    # note.. before you flatten, transpose the image (that's how the dataset is!)\n",
    "    # consider doing a square crop, and even using np.pad() to get your images looking more like the dataset\n",
    "    # YOUR CODE HERE\n",
    "    raise NotImplementedError()\n"
   ]
  },
  {
   "cell_type": "markdown",
   "id": "d7787fe1",
   "metadata": {
    "deletable": false,
    "editable": false,
    "nbgrader": {
     "cell_type": "markdown",
     "checksum": "24f6fee2d67b0fafb3077c6101731475",
     "grade": false,
     "grade_id": "cell-b6c103335a0b75db",
     "locked": true,
     "schema_version": 3,
     "solution": false,
     "task": false
    }
   },
   "source": [
    "### Q4.4 (13 points Code+WriteUp)\n",
    "Now you will load the image, find the character locations, classify each one with the network you trained in **Q3.1**, and return the text contained in the image. Be sure you try to make your detected images look like the images from the training set. Visualize them and act accordingly. \n",
    "\n",
    "<font color=\"red\">**Please include the write up answer and the screenshot of code to theory.ipynb**</font>"
   ]
  },
  {
   "cell_type": "code",
   "execution_count": null,
   "id": "7b488866",
   "metadata": {
    "deletable": false,
    "nbgrader": {
     "cell_type": "code",
     "checksum": "34b6e2de7dfb131a447a473b78758dd6",
     "grade": false,
     "grade_id": "cell-26374322f557beb3",
     "locked": false,
     "schema_version": 3,
     "solution": true,
     "task": false
    }
   },
   "outputs": [],
   "source": [
    "# load the weights\n",
    "# run the crops through your neural network and print them out\n",
    "import pickle\n",
    "import string\n",
    "import numpy as np\n",
    "\n",
    "letters = np.array([_ for _ in string.ascii_uppercase[:26]] + [str(_) for _ in range(10)])\n",
    "params = pickle.load(open('q3_weights.pickle','rb'))\n",
    "# YOUR CODE HERE\n",
    "raise NotImplementedError()"
   ]
  }
 ],
 "metadata": {
  "kernelspec": {
   "display_name": "Python 3",
   "language": "python",
   "name": "python3"
  },
  "language_info": {
   "codemirror_mode": {
    "name": "ipython",
    "version": 3
   },
   "file_extension": ".py",
   "mimetype": "text/x-python",
   "name": "python",
   "nbconvert_exporter": "python",
   "pygments_lexer": "ipython3",
   "version": "3.6.13"
  }
 },
 "nbformat": 4,
 "nbformat_minor": 5
}
